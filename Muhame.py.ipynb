{
 "cells": [
  {
   "cell_type": "code",
   "execution_count": 1,
   "id": "5788e37c",
   "metadata": {},
   "outputs": [
    {
     "name": "stdout",
     "output_type": "stream",
     "text": [
      "Hello Muhame\n"
     ]
    }
   ],
   "source": [
    "print(\"Hello Muhame\")"
   ]
  },
  {
   "cell_type": "code",
   "execution_count": 2,
   "id": "45682e3e",
   "metadata": {},
   "outputs": [
    {
     "ename": "ModuleNotFoundError",
     "evalue": "No module named 'libraries'",
     "output_type": "error",
     "traceback": [
      "\u001b[1;31m---------------------------------------------------------------------------\u001b[0m",
      "\u001b[1;31mModuleNotFoundError\u001b[0m                       Traceback (most recent call last)",
      "Input \u001b[1;32mIn [2]\u001b[0m, in \u001b[0;36m<cell line: 1>\u001b[1;34m()\u001b[0m\n\u001b[1;32m----> 1\u001b[0m \u001b[38;5;28;01mimport\u001b[39;00m \u001b[38;5;21;01mlibraries\u001b[39;00m\n",
      "\u001b[1;31mModuleNotFoundError\u001b[0m: No module named 'libraries'"
     ]
    }
   ],
   "source": [
    "import libraries\n"
   ]
  },
  {
   "cell_type": "code",
   "execution_count": null,
   "id": "c8d41c25",
   "metadata": {},
   "outputs": [],
   "source": [
    "import numpy as np\n",
    "pip install numpy\n"
   ]
  },
  {
   "cell_type": "code",
   "execution_count": null,
   "id": "901f5a5f",
   "metadata": {},
   "outputs": [],
   "source": [
    "pip install numpy"
   ]
  },
  {
   "cell_type": "code",
   "execution_count": null,
   "id": "cbac4bdb",
   "metadata": {},
   "outputs": [],
   "source": [
    "import libraries"
   ]
  },
  {
   "cell_type": "code",
   "execution_count": null,
   "id": "45efcfbf",
   "metadata": {},
   "outputs": [],
   "source": [
    "import numpy as np"
   ]
  },
  {
   "cell_type": "code",
   "execution_count": null,
   "id": "e4f001a5",
   "metadata": {},
   "outputs": [],
   "source": [
    "import libraries"
   ]
  },
  {
   "cell_type": "code",
   "execution_count": 3,
   "id": "e7b3a81f",
   "metadata": {},
   "outputs": [],
   "source": [
    "import numpy as np"
   ]
  },
  {
   "cell_type": "code",
   "execution_count": 5,
   "id": "10b501d1",
   "metadata": {},
   "outputs": [
    {
     "name": "stdout",
     "output_type": "stream",
     "text": [
      "<class 'int'>\n"
     ]
    }
   ],
   "source": [
    "x = 3\n",
    "print(type(x))"
   ]
  },
  {
   "cell_type": "code",
   "execution_count": 6,
   "id": "0d8896c6",
   "metadata": {},
   "outputs": [
    {
     "data": {
      "text/plain": [
       "4"
      ]
     },
     "execution_count": 6,
     "metadata": {},
     "output_type": "execute_result"
    }
   ],
   "source": [
    "x+1"
   ]
  },
  {
   "cell_type": "code",
   "execution_count": 7,
   "id": "37e4f623",
   "metadata": {},
   "outputs": [
    {
     "data": {
      "text/plain": [
       "9"
      ]
     },
     "execution_count": 7,
     "metadata": {},
     "output_type": "execute_result"
    }
   ],
   "source": [
    "x*3"
   ]
  },
  {
   "cell_type": "code",
   "execution_count": 8,
   "id": "c4db8b67",
   "metadata": {},
   "outputs": [
    {
     "data": {
      "text/plain": [
       "2"
      ]
     },
     "execution_count": 8,
     "metadata": {},
     "output_type": "execute_result"
    }
   ],
   "source": [
    "x-1"
   ]
  },
  {
   "cell_type": "code",
   "execution_count": 9,
   "id": "d1581bfc",
   "metadata": {},
   "outputs": [
    {
     "data": {
      "text/plain": [
       "27"
      ]
     },
     "execution_count": 9,
     "metadata": {},
     "output_type": "execute_result"
    }
   ],
   "source": [
    "x**3"
   ]
  },
  {
   "cell_type": "code",
   "execution_count": 10,
   "id": "9165b6a8",
   "metadata": {},
   "outputs": [
    {
     "data": {
      "text/plain": [
       "1.0"
      ]
     },
     "execution_count": 10,
     "metadata": {},
     "output_type": "execute_result"
    }
   ],
   "source": [
    "x/3"
   ]
  },
  {
   "cell_type": "code",
   "execution_count": 11,
   "id": "a5c1a2ae",
   "metadata": {},
   "outputs": [
    {
     "data": {
      "text/plain": [
       "1"
      ]
     },
     "execution_count": 11,
     "metadata": {},
     "output_type": "execute_result"
    }
   ],
   "source": [
    "x//3"
   ]
  },
  {
   "cell_type": "code",
   "execution_count": 12,
   "id": "8d627165",
   "metadata": {},
   "outputs": [
    {
     "data": {
      "text/plain": [
       "False"
      ]
     },
     "execution_count": 12,
     "metadata": {},
     "output_type": "execute_result"
    }
   ],
   "source": [
    "x<2"
   ]
  },
  {
   "cell_type": "code",
   "execution_count": 13,
   "id": "30e95c62",
   "metadata": {},
   "outputs": [
    {
     "data": {
      "text/plain": [
       "True"
      ]
     },
     "execution_count": 13,
     "metadata": {},
     "output_type": "execute_result"
    }
   ],
   "source": [
    "x>2"
   ]
  },
  {
   "cell_type": "markdown",
   "id": "8616ab02",
   "metadata": {},
   "source": [
    "## Create a rank 1 array"
   ]
  },
  {
   "cell_type": "code",
   "execution_count": 14,
   "id": "479cd477",
   "metadata": {},
   "outputs": [
    {
     "name": "stdout",
     "output_type": "stream",
     "text": [
      "[1 2 3]\n"
     ]
    }
   ],
   "source": [
    "a = np.array([1,2,3])\n",
    "print(a)"
   ]
  },
  {
   "cell_type": "code",
   "execution_count": 32,
   "id": "538e04f5",
   "metadata": {},
   "outputs": [
    {
     "name": "stdout",
     "output_type": "stream",
     "text": [
      "<class 'numpy.ndarray'>\n",
      "(3,)\n",
      "1 2 3\n"
     ]
    },
    {
     "ename": "TypeError",
     "evalue": "'numpy.ndarray' object is not callable",
     "output_type": "error",
     "traceback": [
      "\u001b[1;31m---------------------------------------------------------------------------\u001b[0m",
      "\u001b[1;31mTypeError\u001b[0m                                 Traceback (most recent call last)",
      "Input \u001b[1;32mIn [32]\u001b[0m, in \u001b[0;36m<cell line: 5>\u001b[1;34m()\u001b[0m\n\u001b[0;32m      3\u001b[0m \u001b[38;5;28mprint\u001b[39m(a\u001b[38;5;241m.\u001b[39mshape)\n\u001b[0;32m      4\u001b[0m \u001b[38;5;28mprint\u001b[39m(a[\u001b[38;5;241m0\u001b[39m],a[\u001b[38;5;241m1\u001b[39m],a[\u001b[38;5;241m2\u001b[39m])\n\u001b[1;32m----> 5\u001b[0m \u001b[43ma\u001b[49m\u001b[43m(\u001b[49m\u001b[43m[\u001b[49m\u001b[38;5;241;43m0\u001b[39;49m\u001b[43m]\u001b[49m\u001b[43m \u001b[49m\u001b[38;5;241;43m==\u001b[39;49m\u001b[43m \u001b[49m\u001b[38;5;241;43m5\u001b[39;49m\u001b[43m)\u001b[49m\n\u001b[0;32m      6\u001b[0m a\n",
      "\u001b[1;31mTypeError\u001b[0m: 'numpy.ndarray' object is not callable"
     ]
    }
   ],
   "source": [
    "a\n",
    "print(type(a))\n",
    "print(a.shape)\n",
    "print(a[0],a[1],a[2])\n",
    "a([0] == 5)\n",
    "a"
   ]
  },
  {
   "cell_type": "markdown",
   "id": "5ef3c50a",
   "metadata": {},
   "source": [
    "# numpy array\n",
    " A numpy array is a grid of values, all of the same type, and is indexed by a tuple of non-negative integers.\n",
    " \n",
    " The number of dimensions in the rank of the array;\n",
    " The shape of the array is the tuple of integers giving the size of the array along each dimension\n",
    " \n",
    " We can initialise numpy arrays from nested python lists and access elements using square brackets ie;\n",
    " "
   ]
  },
  {
   "cell_type": "code",
   "execution_count": 31,
   "id": "89739c7d",
   "metadata": {},
   "outputs": [
    {
     "name": "stdout",
     "output_type": "stream",
     "text": [
      "[[1 2 3]\n",
      " [4 5 6]]\n"
     ]
    },
    {
     "data": {
      "text/plain": [
       "(2, 3)"
      ]
     },
     "execution_count": 31,
     "metadata": {},
     "output_type": "execute_result"
    }
   ],
   "source": [
    "b = np.array([[1,2,3],[4,5,6]])\n",
    "print(b)\n",
    "b.shape"
   ]
  },
  {
   "cell_type": "markdown",
   "id": "39b56b83",
   "metadata": {},
   "source": [
    "# Numpy con't\n",
    "Numpy also provides many functions to create arrays\n",
    "ie if i want to create an raray of an indentity matrix;\n",
    "np.zeros(2,3) and this is showing that we need a 2,3 matrix in form of zeros\n",
    "np.ones(2,3) and this will bring in form of 1s\n",
    "ie;\n",
    "np.eye refers to an indetity matrix\n",
    "np.full([2,3],7)creates one of 7s\n",
    "# NB\n",
    "We dont use square brackets in functions\n"
   ]
  },
  {
   "cell_type": "code",
   "execution_count": 41,
   "id": "5d03845e",
   "metadata": {},
   "outputs": [
    {
     "name": "stdout",
     "output_type": "stream",
     "text": [
      "[[0. 0. 0.]\n",
      " [0. 0. 0.]]\n"
     ]
    }
   ],
   "source": [
    "#this puts an array of zeros\n",
    "d = np.zeros((2,3))\n",
    "print(d)"
   ]
  },
  {
   "cell_type": "code",
   "execution_count": 43,
   "id": "1aa095c3",
   "metadata": {},
   "outputs": [
    {
     "name": "stdout",
     "output_type": "stream",
     "text": [
      "[[1. 1. 1.]\n",
      " [1. 1. 1.]]\n",
      "[[7 7 7]\n",
      " [7 7 7]]\n",
      "[[1. 0.]\n",
      " [0. 1.]]\n",
      "[[0.17153986 0.64038178]\n",
      " [0.79910171 0.1329355 ]]\n"
     ]
    }
   ],
   "source": [
    "#array of ones\n",
    "h = np.ones((2,3))\n",
    "print(h)\n",
    "#array of sevens\n",
    "full = np.full((2,3),7)\n",
    "print(full)\n",
    "#created an indetity matrix\n",
    "eye = np.eye(2)\n",
    "print(eye)\n",
    "# creates a random variables and use .random.random\n",
    "q = np.random.random((2,2))\n",
    "print(q)\n",
    "# This might look like this;\n",
    "[[0.17153986 0.64038178]\n",
    " [0.79910171 0.1329355 ]]\n",
    "\n"
   ]
  },
  {
   "cell_type": "markdown",
   "id": "3b7ca553",
   "metadata": {},
   "source": [
    "# Array Math\n",
    "Basic mtc funcdtions operate elementwise as overlogs and functions in numpy "
   ]
  },
  {
   "cell_type": "code",
   "execution_count": 50,
   "id": "dee80a5f",
   "metadata": {},
   "outputs": [
    {
     "data": {
      "text/plain": [
       "array([[ 6,  8],\n",
       "       [10, 12]])"
      ]
     },
     "execution_count": 50,
     "metadata": {},
     "output_type": "execute_result"
    }
   ],
   "source": [
    "z = np.array([[1,2],[3,4]])\n",
    "r = np.array([[5,6],[7,8]])\n",
    "# This adds the two matrices\n",
    "z+r\n"
   ]
  },
  {
   "cell_type": "code",
   "execution_count": 51,
   "id": "20070d15",
   "metadata": {},
   "outputs": [
    {
     "data": {
      "text/plain": [
       "array([[-4, -4],\n",
       "       [-4, -4]])"
      ]
     },
     "execution_count": 51,
     "metadata": {},
     "output_type": "execute_result"
    }
   ],
   "source": [
    "#subtraction of matrices\n",
    "z-r"
   ]
  },
  {
   "cell_type": "code",
   "execution_count": 52,
   "id": "1b46c78a",
   "metadata": {},
   "outputs": [
    {
     "data": {
      "text/plain": [
       "array([[ 5, 12],\n",
       "       [21, 32]])"
      ]
     },
     "execution_count": 52,
     "metadata": {},
     "output_type": "execute_result"
    }
   ],
   "source": [
    "# Multiplication of matrices\n",
    "z*r"
   ]
  },
  {
   "cell_type": "code",
   "execution_count": 53,
   "id": "c7da4904",
   "metadata": {},
   "outputs": [
    {
     "data": {
      "text/plain": [
       "array([[0.2       , 0.33333333],\n",
       "       [0.42857143, 0.5       ]])"
      ]
     },
     "execution_count": 53,
     "metadata": {},
     "output_type": "execute_result"
    }
   ],
   "source": [
    "# Division of matrices\n",
    "z/r"
   ]
  },
  {
   "cell_type": "code",
   "execution_count": 54,
   "id": "eb404e20",
   "metadata": {},
   "outputs": [
    {
     "data": {
      "text/plain": [
       "array([[    1,    64],\n",
       "       [ 2187, 65536]])"
      ]
     },
     "execution_count": 54,
     "metadata": {},
     "output_type": "execute_result"
    }
   ],
   "source": [
    "# This is for squareroot\n",
    "z**r"
   ]
  },
  {
   "cell_type": "markdown",
   "id": "365caaed",
   "metadata": {},
   "source": [
    "# Note\n",
    "Multiplication in matrix is not done using a star but a dot and it brings an inner or outer dot product\n",
    "\n",
    "A matrix is assigned with values on top of the order and a vector has the values only."
   ]
  },
  {
   "cell_type": "code",
   "execution_count": 67,
   "id": "6272038a",
   "metadata": {},
   "outputs": [
    {
     "data": {
      "text/plain": [
       "219"
      ]
     },
     "execution_count": 67,
     "metadata": {},
     "output_type": "execute_result"
    }
   ],
   "source": [
    "#This is for a vector \n",
    "h = np.array([9,10])\n",
    "o = np.array([11,12])\n",
    "#This is for vector inner dot product\n",
    "h.dot(o)\n",
    "o.dot(h)\n",
    "np.dot(h,o)"
   ]
  },
  {
   "cell_type": "code",
   "execution_count": 65,
   "id": "45225c81",
   "metadata": {},
   "outputs": [
    {
     "data": {
      "text/plain": [
       "array([127, 173])"
      ]
     },
     "execution_count": 65,
     "metadata": {},
     "output_type": "execute_result"
    }
   ],
   "source": [
    "#matrix.vector\n",
    "z.dot(h)\n",
    "r.dot(o)\n",
    "#This is for vector outer dot product and the answer will appear like this;\n",
    "array([127, 173])\n"
   ]
  },
  {
   "cell_type": "code",
   "execution_count": 71,
   "id": "e6199ee1",
   "metadata": {},
   "outputs": [
    {
     "data": {
      "text/plain": [
       "array([[23, 34],\n",
       "       [31, 46]])"
      ]
     },
     "execution_count": 71,
     "metadata": {},
     "output_type": "execute_result"
    }
   ],
   "source": [
    "#This is for matrix matrix\n",
    "z.dot(r)\n",
    "r.dot(z)\n",
    "# This is an inner dot product of matrix and the answer is;\n",
    "array([[23, 34],\n",
    "       [31, 46]])"
   ]
  },
  {
   "cell_type": "markdown",
   "id": "31780b1e",
   "metadata": {},
   "source": [
    "# Transpose of a matrix"
   ]
  },
  {
   "cell_type": "code",
   "execution_count": 73,
   "id": "128d33a7",
   "metadata": {},
   "outputs": [
    {
     "name": "stdout",
     "output_type": "stream",
     "text": [
      "[[1 3]\n",
      " [2 4]]\n",
      "[[5 7]\n",
      " [6 8]]\n"
     ]
    }
   ],
   "source": [
    "#This is for Transpose\n",
    "z = np.array([[1,2],[3,4]])\n",
    "r = np.array([[5,6],[7,8]])\n",
    "print(z.T)\n",
    "print(r.T)\n",
    "#Nb in jupyter the transpose cannot be vertical its always horizontal"
   ]
  }
 ],
 "metadata": {
  "kernelspec": {
   "display_name": "Python 3 (ipykernel)",
   "language": "python",
   "name": "python3"
  },
  "language_info": {
   "codemirror_mode": {
    "name": "ipython",
    "version": 3
   },
   "file_extension": ".py",
   "mimetype": "text/x-python",
   "name": "python",
   "nbconvert_exporter": "python",
   "pygments_lexer": "ipython3",
   "version": "3.10.5"
  }
 },
 "nbformat": 4,
 "nbformat_minor": 5
}
